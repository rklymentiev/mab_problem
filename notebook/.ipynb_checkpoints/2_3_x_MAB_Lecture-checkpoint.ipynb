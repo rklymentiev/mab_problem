{
 "cells": [
  {
   "cell_type": "markdown",
   "metadata": {},
   "source": [
    "# <center> How to Deal with Multi-Armed Bandit Problem </center>\n",
    "\n",
    "*by Ruslan Klymentiev and [Zank Bennett](https://github.com/zankbennett)*\n",
    "\n",
    "*Originally created for Bennett Data Science [blog post](https://bennettdatascience.com/know-your-options-when-it-comes-to-a-b-testing/).*\n",
    "\n",
    "#### Table of Contents\n",
    "- <a href='#mab'>What is Multi-Armed Bandit Problem?</a>  \n",
    "- <a href='#random'>Random Selection</a>\n",
    "- <a href='#epsilon'>Epsilon-Greedy</a> \n",
    "- <a href='#ts'>Thompson Sampling</a> \n",
    "- <a href='#ucb'>Upper Confidence Bound</a> \n",
    "- <a href='#comparison'>Comparison and Conclusions</a> "
   ]
  },
  {
   "cell_type": "markdown",
   "metadata": {
    "colab_type": "text",
    "id": "EBkzZYIbUYZS"
   },
   "source": [
    "## <a id='mab'>What is Multi-Armed Bandit Problem?</a> \n",
    "\n",
    "This is a classic case that comes up various areas, from marketing to medical trials: How do you give a user what they want before you have a relationship with them? What about the case where you don’t even know much about the affinity for a user to an item or treatment your giving the user, as in a medical trial of several drugs or supplements?\n",
    "\n",
    "We’ll show you how to approach these problems, and how a Multi-Armed Bandit with Thompson Sampling is generally the best choice. That’s a lot of words. Let’s slow down and start with something simple.\n",
    "\n",
    "As an example, imagine you are running a marketing campaign for your website and have two ads to choose from. And say the objective is  to show the ad with highest click through rate (CTR) value to drive the highest traffic possible. But you don't have any prior information about how either of these ads will perform. What would be your approach? What about typical A/B testing? How about showing both of the ads equally, then, at some point, switching to the ad with the highest measured CTR? How long do you have to show both ads before settling on a “winner”? In these cases, it seems like guessing might be our best bet. In fact, that’s not far off!\n",
    "\n",
    "\n",
    "There’s a method for this very problem; it’s called **the multi armed bandit (MAB)**.\n",
    "\n",
    "There’s a lot of information explaining what [the MAB algorithm](https://en.wikipedia.org/wiki/Multi-armed_bandit) is, what it does and how it works, so we’ll keep it brief. Essentially, the MAB algorithm is a near-optimal method for solving the explore exploit trade-off dilemma that occurs when we don’t know whether to explore possible options to find the one with the best payoff or exploit an option that we feel is the best, from the limited exploration done so far.\n",
    "\n",
    "In this tutorial we will look at different algorithms to solve the MAB problem. They all have different approaches and different Exploration vs Exploitation ratios.\n",
    "\n",
    "Here, we’ll define **CTR** as the ratio of how many times an ad was clicked vs. the number of impressions. For example, if an ad has been shown 100 times and clicked 10 times, CTR = 10/100 = 0.1\n",
    "\n",
    "We’ll define **regret** as the difference between the highest possible CTR and the CTR shown. For example, if ad A has a known CTR or 0.1 and ad B has a known CTR of 0.3, each time we show ad A, we have a regret equal to 0.3 - 0.1 = 0.2. This seems like a small difference until we consider that an ad may be shown 1MM times in only hours.\n",
    "\n",
    "In this tutorial, we want to demonstrate which algorithm implementation performs best in terms of minimizing regret. The four implementations we’ll use are:\n",
    "\n",
    "1. Random Selection\n",
    "2. Epsilon Greedy\n",
    "3. Thompson Sampling\n",
    "4. Upper Confidence Bound (UCB1)\n",
    "\n",
    "Each method will be described below in the simulations.\n",
    "\n",
    "To perform this experiment, we have to assume we know the CTR’s in advance. That way, we can simulate a click (or not) of a given ad. For example, if we show ad A, with a known CTR of 28%, we can assume the ad will be clicked on 28% of the time and bake that into our simulation."
   ]
  },
  {
   "cell_type": "code",
   "execution_count": null,
   "metadata": {
    "colab": {},
    "colab_type": "code",
    "id": "CSjRYnOeUiLq"
   },
   "outputs": [],
   "source": [
    "import numpy as np\n",
    "import pandas as pd\n",
    "from scipy.stats import beta, bernoulli\n",
    "import plotly.graph_objs as go\n",
    "from plotly.offline import init_notebook_mode, iplot\n",
    "from plotly.subplots import make_subplots\n",
    "import random\n",
    "import math"
   ]
  },
  {
   "cell_type": "code",
   "execution_count": null,
   "metadata": {
    "cellView": "form",
    "colab": {},
    "colab_type": "code",
    "id": "mI2-qXhhUjKg"
   },
   "outputs": [],
   "source": [
    "def algorithm_performance(chosen_ads, total_reward, regret_list):\n",
    "    \"\"\"\n",
    "    Function that will show the performance of each algorithm we will be using in this tutorial.\n",
    "    \"\"\"\n",
    "\n",
    "    # calculate how many time each Ad has been choosen\n",
    "    count_series = pd.Series(chosen_ads).value_counts(normalize=True)\n",
    "    print('Ad A has been shown', count_series[0]*100, '% of the time.')\n",
    "    print('Ad B has been shown', count_series[1]*100, '% of the time.')\n",
    "\n",
    "    print('Total Reward (Number of Clicks):', total_reward) # print total Reward\n",
    "\n",
    "    x = np.arange(0, n, 1)\n",
    "\n",
    "    # plot the calculated CTR for Ad A\n",
    "    trace0 = go.Scatter(x=x,\n",
    "                       y=ctr['A'],\n",
    "                       name='Calculated CTR for Ad A',\n",
    "                       line=dict(color=('rgba(10, 108, 94, .7)'),\n",
    "                                 width=2))\n",
    "\n",
    "    # plot the line with actual CTR for Ad A\n",
    "    trace1 = go.Scatter(x=[0, n],\n",
    "                       y=[ACTUAL_CTR['A']] * 2,\n",
    "                       name='Actual CTR for Ad A',\n",
    "                       line = dict(color = ('rgb(205, 12, 24)'),\n",
    "                                   width = 1,\n",
    "                                   dash = 'dash'))\n",
    "\n",
    "    # plot the calculated CTR for Ad B\n",
    "    trace2 = go.Scatter(x=x,\n",
    "                       y=ctr['B'],\n",
    "                       name='Calculated CTR for Ad B',\n",
    "                       line=dict(color=('rgba(187, 121, 24, .7)'),\n",
    "                                 width=2))\n",
    "\n",
    "    # plot the line with actual CTR for Ad A\n",
    "    trace3 = go.Scatter(x=[0, n],\n",
    "                       y=[ACTUAL_CTR['B']] * 2,\n",
    "                       name='Actual CTR for Ad B',\n",
    "                       line = dict(color = ('rgb(205, 12, 24)'),\n",
    "                                   width = 1,\n",
    "                                   dash = 'dash'))\n",
    "\n",
    "    # plot the Regret values as a function of trial number\n",
    "    trace4 = go.Scatter(x=x,\n",
    "                       y=regret_list,\n",
    "                       name='Regret')\n",
    "\n",
    "    fig = make_subplots(rows=2, cols=1, shared_yaxes=True, shared_xaxes=True)\n",
    "\n",
    "    fig.add_trace(trace0, row=1, col=1)\n",
    "    fig.add_trace(trace1, row=1, col=1)\n",
    "    fig.add_trace(trace2, row=1, col=1)\n",
    "    fig.add_trace(trace3, row=1, col=1)\n",
    "    fig.add_trace(trace4, row=2, col=1)\n",
    "\n",
    "    fig.update_layout(\n",
    "        title='Simulated CTR Values and Algorithm Regret',\n",
    "        xaxis={'title': 'Trial Number'},\n",
    "        yaxis1={'title': 'CTR value'},\n",
    "        yaxis2={'title': 'Regret Value'}\n",
    "    )\n",
    "    \n",
    "    return fig"
   ]
  },
  {
   "cell_type": "markdown",
   "metadata": {
    "colab_type": "text",
    "id": "wKMOFFIiUtV6"
   },
   "source": [
    "This never(?) happens in real life, but for we will assume that we know the actual CTR values for both Ads for simulation purposes.  "
   ]
  },
  {
   "cell_type": "code",
   "execution_count": null,
   "metadata": {
    "colab": {
     "base_uri": "https://localhost:8080/",
     "height": 51
    },
    "colab_type": "code",
    "id": "kZmW9dPOUmyU",
    "outputId": "7650d1ec-d8e2-4f67-a511-e37060c49d7f"
   },
   "outputs": [],
   "source": [
    "ads = ['A', 'B']\n",
    "ACTUAL_CTR = {'A': .45, 'B': .65}"
   ]
  },
  {
   "cell_type": "markdown",
   "metadata": {
    "colab_type": "text",
    "id": "wINzNloDUyAJ"
   },
   "source": [
    "## <a id='random'>Random Selection</a> \n",
    "\n",
    "* *0% - Exploration*\n",
    "* *100% - Exploitation*\n",
    "\n",
    "Let's start with the most naïve approach - Random Selection. The Random Selection algorithm doesn't do any Exploration, it just chooses randomly the Ad to show. \n",
    "\n",
    "You can think of it as coin flip - if you get heads you show Ad A, if you get tails you show Ad B. So if you have 2 ads, each add will appear ~50% (=100%/2) of the time. I guess you can tell already what are the disadvantages of this model, but let's look on simulation."
   ]
  },
  {
   "cell_type": "code",
   "execution_count": null,
   "metadata": {
    "colab": {},
    "colab_type": "code",
    "id": "xx6YtBHXUv0K"
   },
   "outputs": [],
   "source": [
    "# For each alrorithm we will perform 1000 trials\n",
    "n = 1000"
   ]
  },
  {
   "cell_type": "code",
   "execution_count": null,
   "metadata": {
    "colab": {},
    "colab_type": "code",
    "id": "hYgS--FqU7DG"
   },
   "outputs": [],
   "source": [
    "regret = 0 \n",
    "total_reward = 0\n",
    "regret_list = [] # list for collecting the regret values for each impression (trial)\n",
    "ctr = {'A': [], 'B': []} # lists for collecting the calculated CTR \n",
    "chosen_ads = [] # list for collecting the number of randomly choosen Ad\n",
    "\n",
    "# set the initial values for impressions and clicks \n",
    "impressions = {'A': 0, 'B': 0}\n",
    "clicks = {'A': 0, 'B': 0}\n",
    "\n",
    "for i in range(n):    \n",
    "    \n",
    "    random_ad = np.random.choice(ads, p=[1/2, 1/2]) # randomly choose the ad\n",
    "    chosen_ads.append(random_ad) # add the value to list\n",
    "    \n",
    "    impressions[random_ad] += 1 # add 1 impression value for the choosen Ad\n",
    "    did_click = bernoulli.rvs(ACTUAL_CTR[random_ad]) # simulate if the person clicked on the ad usind Actual CTR value\n",
    "    \n",
    "    if did_click:\n",
    "        clicks[random_ad] += did_click # if person clicked add 1 click value for the choosen Ad\n",
    "    \n",
    "    # calculate the CTR values and add them to list\n",
    "    if impressions['A'] == 0:\n",
    "        ctr_0 = 0\n",
    "    else:\n",
    "        ctr_0 = clicks['A']/impressions['A']\n",
    "        \n",
    "    if impressions['B'] == 0:\n",
    "        ctr_1 = 0\n",
    "    else:\n",
    "        ctr_1 = clicks['B']/impressions['B']\n",
    "        \n",
    "    ctr['A'].append(ctr_0)\n",
    "    ctr['B'].append(ctr_1)\n",
    "    \n",
    "    # calculate the regret and reward\n",
    "    regret += max(ACTUAL_CTR.values()) - ACTUAL_CTR[random_ad]\n",
    "    regret_list.append(regret)\n",
    "    total_reward += did_click"
   ]
  },
  {
   "cell_type": "code",
   "execution_count": null,
   "metadata": {},
   "outputs": [],
   "source": [
    "fig = algorithm_performance(chosen_ads, total_reward, regret_list)\n",
    "fig.show()\n",
    "fig.write_html('plotly-output/1.html')"
   ]
  },
  {
   "cell_type": "markdown",
   "metadata": {
    "colab_type": "text",
    "id": "BorWJ9pyVfGr"
   },
   "source": [
    "Both Ads were shown equal amount of times and the more trials, the closer the CTR values are to their known values. However, the Regret is continually increasing since the algorithm doesn't learn anything and doesn't do any updates according to gained information. This ever-increasing regret is exactly what we’re hoping to minimize with “smarter” methods.\n",
    "\n",
    "I would use this algorithm in two cases:\n",
    "\n",
    "1. I want to be confident about the estimated CTR value for each Ad (the more impression each Ad get, the more confindet I am that estimated CTR equals to real CTR).\n",
    "\n",
    "2. I have unlimited Marketing Budget ;)"
   ]
  },
  {
   "cell_type": "code",
   "execution_count": null,
   "metadata": {
    "colab": {},
    "colab_type": "code",
    "id": "yHEkatEKVFgf"
   },
   "outputs": [],
   "source": [
    "# save the reward and regret values for future comparison\n",
    "random_dict = {\n",
    "    'reward':total_reward, \n",
    "    'regret_list':regret_list, \n",
    "    'ads_count':pd.Series(chosen_ads).value_counts(normalize=True)\n",
    "}"
   ]
  },
  {
   "cell_type": "markdown",
   "metadata": {
    "colab_type": "text",
    "id": "4DkJowHQVkqg"
   },
   "source": [
    "## <a id='epsilon'>Epsilon Greedy</a> \n",
    "\n",
    "* *~15% - Exploration*\n",
    "* *~85% - Exploitation*\n",
    "\n",
    "The next approach is Epsilon-Greedy algorithm. Its logic can be defined as follows:\n",
    "1. Run the experiment for some initial number of times (**Exploration**).\n",
    "2. Choose the winning variant with the highest score for initial period of exploration.\n",
    "3. Set the Epsilon value, **$\\epsilon$**.\n",
    "4. Run experiment with choosing the winning variant for **$(1-\\epsilon)\\% $** of the time and other options for **$\\epsilon\\%$** of the time (**Exploitation**).\n",
    "\n",
    "Let's take a look at this algorithm in practice:"
   ]
  },
  {
   "cell_type": "code",
   "execution_count": null,
   "metadata": {
    "colab": {
     "base_uri": "https://localhost:8080/",
     "height": 51
    },
    "colab_type": "code",
    "id": "sJ7vg_ckVnyz",
    "outputId": "b8540be5-a3d5-4905-a11d-2216828e6330"
   },
   "outputs": [],
   "source": [
    "e = .05 # set the Epsilon value\n",
    "n_init = 100 # number of impressions to choose the winning Ad\n",
    "\n",
    "# set the initial values for impressions and clicks \n",
    "impressions = {'A': 0, 'B': 0}\n",
    "clicks = {'A': 0, 'B': 0}\n",
    "\n",
    "for i in range(n_init):\n",
    "    random_ad = np.random.choice(ads, p=[1/2, 1/2]) # randomly choose the ad\n",
    "    \n",
    "    impressions[random_ad] += 1\n",
    "    did_click = bernoulli.rvs(ACTUAL_CTR[random_ad])\n",
    "    if did_click:\n",
    "        clicks[random_ad] += did_click\n",
    "        \n",
    "ctr_0 = clicks['A'] / impressions['A']\n",
    "ctr_1 = clicks['B'] / impressions['B']\n",
    "win_index = np.argmax([ctr_0, ctr_1]) # select the Ad number with the highest CTR\n",
    "\n",
    "print('After', n_init, 'initial trials Ad', ads[win_index], \n",
    "      'got the highest CTR =', round(np.max([ctr_0, ctr_1]), 2), \n",
    "      '(Real CTR value is', ACTUAL_CTR[ads[win_index]], ').'\n",
    "      '\\nIt will be shown', (1-e)*100, '% of the time.')"
   ]
  },
  {
   "cell_type": "code",
   "execution_count": null,
   "metadata": {
    "colab": {},
    "colab_type": "code",
    "id": "Cc0z560TVqCO"
   },
   "outputs": [],
   "source": [
    "regret = 0 \n",
    "total_reward = 0\n",
    "regret_list = [] # list for collecting the regret values for each impression (trial)\n",
    "ctr = {'A': [], 'B': []} # lists for collecting the calculated CTR \n",
    "chosen_ads = [] # list for collecting the number of randomly choosen Ad\n",
    "\n",
    "# set the initial values for impressions and clicks \n",
    "impressions = {'A': 0, 'B': 0}\n",
    "clicks = {'A': 0, 'B': 0}\n",
    "\n",
    "# update probabilities\n",
    "p = [e, e]\n",
    "p[win_index] = 1 - e\n",
    "\n",
    "for i in range(n):    \n",
    "    \n",
    "    win_ad = np.random.choice(ads, p=p) # randomly choose the ad\n",
    "    chosen_ads.append(win_ad) # add the value to list\n",
    "    \n",
    "    impressions[win_ad] += 1 # add 1 impression value for the choosen Ad\n",
    "    did_click = bernoulli.rvs(ACTUAL_CTR[win_ad]) # simulate if the person clicked on the ad usind Actual CTR value\n",
    "    \n",
    "    if did_click:\n",
    "        clicks[win_ad] += did_click # if person clicked add 1 click value for the choosen Ad\n",
    "    \n",
    "    # calculate the CTR values and add them to list\n",
    "    if impressions['A'] == 0:\n",
    "        ctr_0 = 0\n",
    "    else:\n",
    "        ctr_0 = clicks['A']/impressions['A']\n",
    "        \n",
    "    if impressions['B'] == 0:\n",
    "        ctr_1 = 0\n",
    "    else:\n",
    "        ctr_1 = clicks['B']/impressions['B']\n",
    "        \n",
    "    ctr['A'].append(ctr_0)\n",
    "    ctr['B'].append(ctr_1)\n",
    "    \n",
    "    # calculate the regret and reward\n",
    "    regret += max(ACTUAL_CTR.values()) - ACTUAL_CTR[win_ad]\n",
    "    regret_list.append(regret)\n",
    "    total_reward += did_click"
   ]
  },
  {
   "cell_type": "code",
   "execution_count": null,
   "metadata": {
    "colab": {
     "base_uri": "https://localhost:8080/",
     "height": 593
    },
    "colab_type": "code",
    "id": "Q0-7MJNbVsqR",
    "outputId": "94caac0f-9c32-4785-b9e7-9f53d52208f5"
   },
   "outputs": [],
   "source": [
    "fig = algorithm_performance(chosen_ads, total_reward, regret_list)\n",
    "fig.show()\n",
    "fig.write_html('plotly-output/2.html')"
   ]
  },
  {
   "cell_type": "markdown",
   "metadata": {
    "colab_type": "text",
    "id": "09OivM4bVyb4"
   },
   "source": [
    "That’s much better; Notice how the regret has decreased by an order of magnitude! The Epsilon-Greedy algorithm seems to perform much better than Random Selection. But can you see the problem here? The winning variant from exploration period will not necessarily be the optimal variant, and you can actually exploit the suboptimal variant. This increases regret and decreases reward. According to the **Law of Large Numbers**\\* the more initial trials you do, the more likely you will choose the winning variant correctly. But in Marketing you don't usually want to rely on chance and hope that you have reached that 'large number of trials'.\n",
    "\n",
    "> \\*In probability theory, the **law of large numbers (LLN)** is a theorem that describes the result of performing the same experiment a large number of times. According to the law, the average of the results obtained from a large number of trials should be close to the expected value, and will tend to become closer as more trials are performed.\n",
    "\n",
    "The good point is that you can adjust the ratio that controls how often to show the winning ad after initial trials by choosing different $\\epsilon$ values. "
   ]
  },
  {
   "cell_type": "code",
   "execution_count": null,
   "metadata": {
    "colab": {},
    "colab_type": "code",
    "id": "Bq3A6wC3VuH-"
   },
   "outputs": [],
   "source": [
    "epsilon_dict = {\n",
    "    'reward':total_reward, \n",
    "    'regret_list':regret_list, \n",
    "    'ads_count':pd.Series(chosen_ads).value_counts(normalize=True)}"
   ]
  },
  {
   "cell_type": "markdown",
   "metadata": {
    "colab_type": "text",
    "id": "r2ZGmUMnV2LZ"
   },
   "source": [
    "## <a id='ts'>Thompson Sampling</a> \n",
    "\n",
    "* *50% - Exploration*\n",
    "* *50% - Exploitation*\n",
    "\n",
    "The Thompson Sampling exploration part is more sophisticated than e-Greedy algorithm. We have been using **Beta distribution**\\* here, however Thompson Sampling can be generalized to sample from any distributions over parameters.\n",
    "\n",
    "> \\*In probability theory and statistics, the **beta distribution** is a family of continuous probability distributions defined on the interval [0, 1] parametrized by two positive shape parameters, denoted by $\\alpha$ and $\\beta$, that appear as exponents of the random variable and control the shape of the distribution. \n",
    "\n",
    "*If you want to know more about Beta distribution here is an [article](http://varianceexplained.org/statistics/beta_distribution_and_baseball/) I found extremely useful.*\n",
    "\n",
    "Logic:\n",
    "\n",
    "1. Choose prior distributions for parameters $\\alpha$ and $\\beta$.\n",
    "2. Calculate the $\\alpha$ and $\\beta$ values as: $\\alpha = prior + hits$, $\\beta = prior + misses$. * In our case hits = number of clicks, misses = number of impressions without a click. Priors are useful if you have some prior information about the actual CTR’s of your ads. Here, we do not, so we’ll use 1.0.*\n",
    "3. Estimate actual CTR’s by sampling values of Beta distribution for each variant $B(\\alpha_i, \\beta_i)$ and choose the sample with the highest value (estimated CTR).\n",
    "4. Repeat 2-3."
   ]
  },
  {
   "cell_type": "code",
   "execution_count": null,
   "metadata": {
    "cellView": "both",
    "colab": {},
    "colab_type": "code",
    "id": "hftA6dYVUzdq"
   },
   "outputs": [],
   "source": [
    "#@title functions for manual Tompson sampling\n",
    "\n",
    "def calculate_beta_dist(win_ad):\n",
    "    impressions[win_ad] += 1\n",
    "    did_click = bernoulli.rvs(ACTUAL_CTR[win_ad])\n",
    "    if did_click:\n",
    "        clicks[win_ad] += did_click\n",
    "\n",
    "    # update ctr values according to beta destribution expected values\n",
    "    ctr_0 = random.betavariate(priors['A']+clicks['A'], priors['A'] + impressions['A'] - clicks['A'])\n",
    "    ctr_1 = random.betavariate(priors['B']+clicks['B'], priors['B'] + impressions['B'] - clicks['B'])\n",
    "    highest_ad = np.argmax([ctr_0, ctr_1])\n",
    "    chosen_ads.append(highest_ad)\n",
    "\n",
    "    ctr['A'].append(ctr_0)\n",
    "    ctr['B'].append(ctr_1)\n",
    "    return highest_ad\n",
    "\n",
    "\n",
    "def plot_beta_dist():\n",
    "    x = np.arange(0, 1, 0.01)\n",
    "    y = beta.pdf(x, priors['A']+clicks['A'], priors['B'] + impressions['A'] - clicks['A'])\n",
    "    y /= y.max() ## normalize\n",
    "\n",
    "    trace0 = go.Scatter(x=x,\n",
    "                    y=y,\n",
    "                    name='Beta Distribution (Ad A)',\n",
    "                    marker = dict(color=('rgba(10, 108, 94, 1)')),\n",
    "                    fill='tozeroy',\n",
    "                    fillcolor = 'rgba(10, 108, 94, .7)')\n",
    "\n",
    "    trace1 = go.Scatter(x = [ACTUAL_CTR[0]] * 2,\n",
    "                    y = [0, 1],\n",
    "                    name = 'Actual CTR A Value',\n",
    "                    mode='lines',\n",
    "                    line = dict(\n",
    "                        color = ('rgb(205, 12, 24)'),\n",
    "                        width = 2,\n",
    "                        dash = 'dash'))\n",
    "\n",
    "    y = beta.pdf(x, priors['A']+clicks['B'], priors['B'] + impressions['B'] - clicks['B'])\n",
    "    y /= y.max()\n",
    "\n",
    "    trace2 = go.Scatter(x=x,\n",
    "                    y=y,\n",
    "                    name='Beta Distribution (Ad B)',\n",
    "                    marker = dict(color=('rgba(187, 121, 24, 1)')),\n",
    "                    fill='tozeroy',\n",
    "                    fillcolor = 'rgba(187, 121, 24, .7)')\n",
    "\n",
    "    trace3 = go.Scatter(x = [ACTUAL_CTR[1]] * 2,\n",
    "                    y = [0, 1],\n",
    "                    name = 'Actual CTR B Value',\n",
    "                    mode='lines',\n",
    "                    line = dict(\n",
    "                        color = ('rgb(205, 12, 24)'),\n",
    "                        width = 2,\n",
    "                        dash = 'dash'))\n",
    "\n",
    "    fig = go.Figure([data1, data2, data3, data4])\n",
    "    fig.updatedate_layout(\n",
    "        title='Beta Distributions for both Ads',\n",
    "        xaxis={'title': 'Possible CTR values'},\n",
    "        yaxis={'title': 'Probability Density'})\n",
    "\n",
    "    fig.show()"
   ]
  },
  {
   "cell_type": "code",
   "execution_count": null,
   "metadata": {
    "colab": {},
    "colab_type": "code",
    "id": "pKM76T_WV0PU"
   },
   "outputs": [],
   "source": [
    "regret = 0 \n",
    "total_reward = 0\n",
    "regret_list = [] \n",
    "ctr = {'A': [], 'B': []}\n",
    "index_list = [] \n",
    "impressions = {'A': 0, 'B': 0}\n",
    "clicks = {'A': 0, 'B': 0}\n",
    "priors = {'A': 1, 'B': 1}\n",
    "\n",
    "win_ad = np.random.choice(ads, p=[1/2, 1/2]) ## randomly choose the first shown Ad\n",
    "\n",
    "for i in range(n):    \n",
    "    \n",
    "    impressions[win_ad] += 1\n",
    "    did_click = bernoulli.rvs(ACTUAL_CTR[win_ad])\n",
    "    if did_click:\n",
    "        clicks[win_ad] += did_click\n",
    "    \n",
    "    ctr_0 = random.betavariate(priors['A']+clicks['A'], priors['B'] + impressions['A'] - clicks['A'])\n",
    "    ctr_1 = random.betavariate(priors['A']+clicks['B'], priors['B'] + impressions['B'] - clicks['B'])\n",
    "    win_ad = ads[np.argmax([ctr_0, ctr_1])]\n",
    "    chosen_ads.append(win_ad)\n",
    "    \n",
    "    ctr['A'].append(ctr_0)\n",
    "    ctr['B'].append(ctr_1)\n",
    "    \n",
    "    regret += max(ACTUAL_CTR.values()) - ACTUAL_CTR[win_ad]\n",
    "    regret_list.append(regret)    \n",
    "    total_reward += did_click"
   ]
  },
  {
   "cell_type": "code",
   "execution_count": null,
   "metadata": {
    "colab": {
     "base_uri": "https://localhost:8080/",
     "height": 542
    },
    "colab_type": "code",
    "id": "3WYdjFcmV7wH",
    "outputId": "9edec44f-7821-4d0e-da49-3062d2dbc604"
   },
   "outputs": [],
   "source": [
    "## plot the Beta distributions\n",
    "x = np.linspace(0,1,1000)\n",
    "y = beta.pdf(x, priors['A']+clicks['A'], priors['B'] + impressions['A'] - clicks['A'])\n",
    "y /= y.max() ## normalize\n",
    "\n",
    "trace0 = go.Scatter(x=x,\n",
    "                   y=y,\n",
    "                   name='Beta Distribution (Ad A)',\n",
    "                   marker = dict(color=('rgba(10, 108, 94, 1)')),\n",
    "                   fill='tozeroy',\n",
    "                   fillcolor = 'rgba(10, 108, 94, .7)')\n",
    "\n",
    "trace1 = go.Scatter(x = [ACTUAL_CTR['A']] * 2,\n",
    "                   y = [0, 1],\n",
    "                   name = 'Actual CTR A Value',\n",
    "                   mode='lines',\n",
    "                   line = dict(\n",
    "                       color = ('rgb(205, 12, 24)'),\n",
    "                       width = 2,\n",
    "                       dash = 'dash'))\n",
    "\n",
    "y = beta.pdf(x, priors['A']+clicks['B'], priors['B'] + impressions['B'] - clicks['B'])\n",
    "y /= y.max()\n",
    "\n",
    "trace2 = go.Scatter(x=x,\n",
    "                   y=y,\n",
    "                   name='Beta Distribution (Ad B)',\n",
    "                   marker = dict(color=('rgba(187, 121, 24, 1)')),\n",
    "                   fill='tozeroy',\n",
    "                   fillcolor = 'rgba(187, 121, 24, .7)')\n",
    "\n",
    "trace3 = go.Scatter(x = [ACTUAL_CTR['B']] * 2,\n",
    "                   y = [0, 1],\n",
    "                   name = 'Actual CTR B Value',\n",
    "                   mode='lines',\n",
    "                   line = dict(\n",
    "                       color = ('rgb(205, 12, 24)'),\n",
    "                       width = 2,\n",
    "                       dash = 'dash'))\n",
    "\n",
    "fig = go.Figure([trace0, trace1, trace2, trace3])\n",
    "fig.update_layout(\n",
    "    title='Beta Distributions for both Ads',\n",
    "    xaxis={'title': 'Possible CTR values'},\n",
    "    yaxis={'title': 'Probability Density'})\n",
    "\n",
    "\n",
    "fig.show()\n",
    "fig.write_html('plotly-output/3.html')"
   ]
  },
  {
   "cell_type": "markdown",
   "metadata": {
    "colab_type": "text",
    "id": "ebdOmUljWB9R"
   },
   "source": [
    "Note the intersection area. There might be the cases that value of Beta distribution for Ad A will be higher, than for Ad B, so algorithm will choose Ad A(which performs worse)."
   ]
  },
  {
   "cell_type": "code",
   "execution_count": null,
   "metadata": {
    "colab": {
     "base_uri": "https://localhost:8080/",
     "height": 593
    },
    "colab_type": "code",
    "id": "VNL0KajrV-ii",
    "outputId": "1e403b37-6d0f-4729-db97-232bb2722913"
   },
   "outputs": [],
   "source": [
    "fig = algorithm_performance(chosen_ads, total_reward, regret_list)\n",
    "fig.show()\n",
    "fig.write_html('plotly-output/4.html')"
   ]
  },
  {
   "cell_type": "markdown",
   "metadata": {
    "colab_type": "text",
    "id": "ZK8tuqrpWGLp"
   },
   "source": [
    "The regret is the lowest we've seen so far. Each uptick in regret happened when the Ad A was chosen. In the CTR Value plot, you can see that in the beginning, the green (Thompson sampled CTR value for Ad A) values were often greater than the tan (Thompson sampled CTR value for Ad B), resulting in Ad A being shown.\n",
    "\n",
    "Note the differences in variations for each ad. The algorithm explores constantly, then naturally exploits the ad variant with the highest sample taken from the appropriate Beta distribution. This can be shown in the top plot of the distributions. The Beta distribution for Ad B is much higher and narrower than that of Ad A, meaning its sampled values will be consistently higher than those of Ad A, which is exactly what we want!"
   ]
  },
  {
   "cell_type": "code",
   "execution_count": null,
   "metadata": {
    "colab": {},
    "colab_type": "code",
    "id": "ROv5GO1hWDs1"
   },
   "outputs": [],
   "source": [
    "thompson_dict = {\n",
    "    'reward':total_reward, \n",
    "    'regret_list':regret_list, \n",
    "    'ads_count':pd.Series(chosen_ads).value_counts(normalize=True)}"
   ]
  },
  {
   "cell_type": "markdown",
   "metadata": {
    "colab_type": "text",
    "id": "xRi1tuv2WKXI"
   },
   "source": [
    "## <a id='ucb'>Upper Confidence Bound (UCB1)</a> \n",
    "\n",
    "* *50% - Exploration*\n",
    "* *50% - Exploitation*\n",
    "\n",
    "Unlike the Thompson Sampling algorithm, the Upper Confidence Bound cares more about the uncertainty (high variation) of each variant. The more uncertain we are about one variant, the more important it is to explore. \n",
    "\n",
    "Algorithm chooses the variant with the highest upper confidence bound value (UCB) which represents the highest reward guess for the variant. It is defind as follows:\n",
    "\n",
    "$UCB = \\bar x_i + \\sqrt{\\frac{2 \\cdot \\log{t}}{n}}$ ,\n",
    "\n",
    "where $\\bar x_i$ - the (CTR rate) for $i$-th step,\n",
    "\n",
    "$t$ - total number of (impressions) for all variants,\n",
    "\n",
    "$n$ - total number of (impressions) for choosen variant\n",
    "\n",
    "The logic is rather straightforward:\n",
    "\n",
    "1. Calculate the UCB for all variants.\n",
    "2. Choose the variant with the highest UCB.\n",
    "3. Go to 1."
   ]
  },
  {
   "cell_type": "code",
   "execution_count": null,
   "metadata": {
    "colab": {},
    "colab_type": "code",
    "id": "e7RKdpY4WIMt"
   },
   "outputs": [],
   "source": [
    "regret = 0 \n",
    "total_reward = 0\n",
    "regret_list = [] \n",
    "ctr = {'A': [], 'B': []}\n",
    "index_list = [] \n",
    "impressions = {'A': 0, 'B': 0}\n",
    "clicks = {'A': 0, 'B': 0}\n",
    "\n",
    "for i in range(n):\n",
    "    \n",
    "    win_ad = 'A'\n",
    "    max_upper_bound = 0\n",
    "    for k in ads:\n",
    "        if (impressions[k] > 0):\n",
    "            CTR = clicks[k] / impressions[k]\n",
    "            delta = math.sqrt(2 * math.log(i+1) / impressions[k])\n",
    "            upper_bound = CTR + delta\n",
    "            ctr[k].append(CTR)\n",
    "        else:\n",
    "            upper_bound = 1e400\n",
    "        if upper_bound > max_upper_bound:\n",
    "            max_upper_bound = upper_bound\n",
    "            win_ad = k\n",
    "    index_list.append(win_ad)\n",
    "    impressions[win_ad] += 1\n",
    "    reward = bernoulli.rvs(ACTUAL_CTR[win_ad])\n",
    "    \n",
    "    clicks[win_ad] += reward\n",
    "    total_reward += reward\n",
    "    \n",
    "    regret += max(ACTUAL_CTR.values()) - ACTUAL_CTR[win_ad]\n",
    "    regret_list.append(regret)"
   ]
  },
  {
   "cell_type": "code",
   "execution_count": null,
   "metadata": {
    "colab": {
     "base_uri": "https://localhost:8080/",
     "height": 593
    },
    "colab_type": "code",
    "id": "RiyMq02_WOtr",
    "outputId": "c4492d68-50ba-4e1c-95b9-c11a2a47a337"
   },
   "outputs": [],
   "source": [
    "fig = algorithm_performance(chosen_ads, total_reward, regret_list)\n",
    "fig.show()\n",
    "fig.write_html('plotly-output/5.html')"
   ]
  },
  {
   "cell_type": "markdown",
   "metadata": {
    "colab_type": "text",
    "id": "hAyxbFRjWS_V"
   },
   "source": [
    "You can see that regret went up when the algorithm tried to decrease uncertainty of CTR for Ad A by choosing it.\n",
    "\n",
    "It might be useful when you want the model to choose the best variant more often, but are still interested in reducing the uncertainty of both variants."
   ]
  },
  {
   "cell_type": "code",
   "execution_count": null,
   "metadata": {
    "colab": {},
    "colab_type": "code",
    "id": "jZpa2467WP_J"
   },
   "outputs": [],
   "source": [
    "ucb1_dict = {\n",
    "    'reward':total_reward, \n",
    "    'regret_list':regret_list, \n",
    "    'ads_count':pd.Series(chosen_ads).value_counts(normalize=True)}"
   ]
  },
  {
   "cell_type": "markdown",
   "metadata": {
    "colab_type": "text",
    "id": "SEH-1-73WWHE"
   },
   "source": [
    "## <a id='comparison'>Comparison and Conclusions</a> \n",
    "\n",
    "Now let's compare four of this methods and see which one performed better for our problem.\n",
    "\n",
    "First of all, it's obvious that we want to show the Ad B more often since its actual CTR is 0.65. Let's take a look at the ratio how many time the right Ad has been chosen for each algorithm."
   ]
  },
  {
   "cell_type": "code",
   "execution_count": null,
   "metadata": {
    "colab": {
     "base_uri": "https://localhost:8080/",
     "height": 542
    },
    "colab_type": "code",
    "id": "LHU6bmXjWUnS",
    "outputId": "f41135fe-7d8a-4ab6-f52a-4f72be52ee8b"
   },
   "outputs": [],
   "source": [
    "trace0 = go.Bar(\n",
    "    x=['Random Selection', 'Epsilon Greedy', 'Thompson Sampling', 'UCB1'],\n",
    "    y=[random_dict['ads_count']['A'], \n",
    "       epsilon_dict['ads_count']['A'], \n",
    "       thompson_dict['ads_count']['A'],\n",
    "       ucb1_dict['ads_count']['A']],\n",
    "    name='Ad A',\n",
    "    marker=dict(color='rgba(10, 108, 94, .7)'))\n",
    "\n",
    "trace1 = go.Bar(\n",
    "    x=['Random Selection', 'Epsilon Greedy', 'Thompson Sampling', 'UCB1'],\n",
    "    y=[random_dict['ads_count']['B'], \n",
    "       epsilon_dict['ads_count']['B'], \n",
    "       thompson_dict['ads_count']['B'],\n",
    "       ucb1_dict['ads_count']['B']],\n",
    "    name='Ad B',\n",
    "    marker=dict(color='rgba(187, 121, 24, .7)'))\n",
    "\n",
    "fig = go.Figure([trace0, trace1])\n",
    "\n",
    "fig.update_layout(\n",
    "    title='Ratio of appearance of both Ads throughout the trials',\n",
    "    xaxis={'title': 'Algorithm'},\n",
    "    yaxis={'title': 'Ratio'},\n",
    "    barmode='stack')\n",
    "\n",
    "fig.show()\n",
    "fig.write_html('plotly-output/6.html')"
   ]
  },
  {
   "cell_type": "markdown",
   "metadata": {
    "colab_type": "text",
    "id": "yOwl6MQaWeuo"
   },
   "source": [
    "As you can see, three algorithms Epsilon Greedy, Thimpson Sampling and UCB1 showed Ad B most of the times (95%+)."
   ]
  },
  {
   "cell_type": "code",
   "execution_count": null,
   "metadata": {
    "colab": {
     "base_uri": "https://localhost:8080/",
     "height": 542
    },
    "colab_type": "code",
    "id": "jzZFjPhhWcOa",
    "outputId": "91340f94-e5b2-492b-cee2-d91185382c83"
   },
   "outputs": [],
   "source": [
    "trace0 = go.Scatter(\n",
    "    x=np.arange (0, n, 1),\n",
    "    y=random_dict['regret_list'],\n",
    "    name='Random Selection',\n",
    "    marker=dict(color='#ffcc66')\n",
    ")\n",
    "trace1 = go.Scatter(\n",
    "    x=np.arange (0, n, 1),\n",
    "    y=epsilon_dict['regret_list'],\n",
    "    name='e-Greedy',\n",
    "    marker=dict(color='#0099ff')\n",
    ")\n",
    "trace2 = go.Scatter(\n",
    "    x=np.arange (0, n, 1),\n",
    "    y=thompson_dict['regret_list'],\n",
    "    name='Thompson Sampling',\n",
    "    marker=dict(color='#ff3300')\n",
    ")\n",
    "trace3 = go.Scatter(\n",
    "    x=np.arange (0, n, 1),\n",
    "    y=ucb1_dict['regret_list'],\n",
    "    name='UCB1',\n",
    "    marker=dict(color='#33cc33')\n",
    ")\n",
    "\n",
    "fig = go.Figure([trace0, trace1, trace2, trace3])\n",
    "\n",
    "fig.update_layout(\n",
    "    title='Regret by the Algorithm',\n",
    "    xaxis={'title': 'Trial'},\n",
    "    yaxis={'title': 'Regret'}\n",
    ")\n",
    "\n",
    "fig.show()\n",
    "fig.write_html('plotly-output/7.html')"
   ]
  },
  {
   "cell_type": "markdown",
   "metadata": {
    "colab_type": "text",
    "id": "9cc-XzHvWllQ"
   },
   "source": [
    "Taking to account that Thompson Sampling and Epsilon-Greedy algorithms chose ad with the higher CTR (B) most of the time, it shouldn't come as surprise that their regret values are the lowest."
   ]
  },
  {
   "cell_type": "code",
   "execution_count": null,
   "metadata": {
    "colab": {
     "base_uri": "https://localhost:8080/",
     "height": 542
    },
    "colab_type": "code",
    "id": "Z9LcY5sJWiim",
    "outputId": "195f07cb-980d-4f25-b205-2ed572de80e5"
   },
   "outputs": [],
   "source": [
    "trace0 = go.Bar(\n",
    "    x=[ucb1_dict['reward'], thompson_dict['reward'], epsilon_dict['reward'], random_dict['reward']],\n",
    "    y=['UCB1', 'Thompson Sampling', 'e-Greedy','Random Selection'],\n",
    "    orientation = 'h',\n",
    "    marker=dict(color=['#33cc33', '#ff3300', '#0099ff', '#ffcc66']),\n",
    "    opacity=0.7\n",
    ")\n",
    "\n",
    "trace1 = go.Scatter(\n",
    "    x=[ucb1_dict['reward'], thompson_dict['reward'], epsilon_dict['reward'], random_dict['reward']],\n",
    "    y=['UCB1', 'Thompson Sampling', 'e-Greedy', 'Random Selection'],\n",
    "    mode='text',\n",
    "    text=[ucb1_dict['reward'], thompson_dict['reward'], epsilon_dict['reward'], random_dict['reward']],\n",
    "    textposition='middle left',\n",
    "    line = dict(\n",
    "        color = ('rgba(255,141,41,0.6)'),\n",
    "        width = 1\n",
    "    ),\n",
    "    textfont=dict(\n",
    "        family='sans serif',\n",
    "        size=16,\n",
    "        color='#000000'\n",
    "    )\n",
    ")\n",
    "\n",
    "fig = go.Figure([trace0, trace1])\n",
    "\n",
    "fig.update_layout(\n",
    "    title='Total Reward by Algorithms',\n",
    "    xaxis={'title': 'Total Reward (Clicks)'},\n",
    "    margin={'l':200},\n",
    "    showlegend=False\n",
    ")\n",
    "\n",
    "fig.show()\n",
    "fig.write_html('plotly-output/8.html')"
   ]
  },
  {
   "cell_type": "markdown",
   "metadata": {
    "colab_type": "text",
    "id": "Idvcz4KEWtgI"
   },
   "source": [
    "It can be the case that total reward for the algorithm with the lowest regret value will not be the highest. It is caused by the fact that even if the algorithm chooses the right ad it doesn't guarantee that the user will click on it.\n",
    "\n",
    "As was told from the beginning, the Thompson Sampling is generally the best choice, but we also looked at other algorithms and discussed how and when they might be useful. The method you choose depends on your unique problem, prior information you have and what information you want to receive afterwards. "
   ]
  },
  {
   "cell_type": "markdown",
   "metadata": {
    "colab_type": "text",
    "id": "FY3OmNlKNT7A"
   },
   "source": [
    "* **Web App**: https://mab-problem.herokuapp.com/\n",
    "\n",
    "* **GitHub Repo**: https://github.com/ruslan-kl/mab_problem"
   ]
  }
 ],
 "metadata": {
  "colab": {
   "collapsed_sections": [],
   "name": "2.3.x. MAB Lecture.ipynb",
   "provenance": []
  },
  "kernelspec": {
   "display_name": "Python 3",
   "language": "python",
   "name": "python3"
  },
  "language_info": {
   "codemirror_mode": {
    "name": "ipython",
    "version": 3
   },
   "file_extension": ".py",
   "mimetype": "text/x-python",
   "name": "python",
   "nbconvert_exporter": "python",
   "pygments_lexer": "ipython3",
   "version": "3.7.6"
  }
 },
 "nbformat": 4,
 "nbformat_minor": 4
}
